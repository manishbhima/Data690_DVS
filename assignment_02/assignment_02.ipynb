{
  "nbformat": 4,
  "nbformat_minor": 0,
  "metadata": {
    "colab": {
      "provenance": [],
      "authorship_tag": "ABX9TyOEl8TyYyw02ksuIc40VRnU",
      "include_colab_link": true
    },
    "kernelspec": {
      "name": "python3",
      "display_name": "Python 3"
    },
    "language_info": {
      "name": "python"
    }
  },
  "cells": [
    {
      "cell_type": "markdown",
      "metadata": {
        "id": "view-in-github",
        "colab_type": "text"
      },
      "source": [
        "<a href=\"https://colab.research.google.com/github/manishbhima/Data690_DVS/blob/main/assignment_02/assignment_02.ipynb\" target=\"_parent\"><img src=\"https://colab.research.google.com/assets/colab-badge.svg\" alt=\"Open In Colab\"/></a>"
      ]
    },
    {
      "cell_type": "markdown",
      "source": [
        "# Data Statistics And Visualisation \n",
        "# Assignment_02\n",
        "* Calculate the following statistics from the 10 integers entered and display the results back to the user:\n",
        "Minimum,\n",
        "Maximum,\n",
        "Range,\n",
        "Mean,\n",
        "Variance,\n",
        "Standard Deviation."
      ],
      "metadata": {
        "id": "JkMMcu1s0tqO"
      }
    },
    {
      "cell_type": "code",
      "source": [
        "count=0\n",
        "lst=[]\n",
        "while True:\n",
        "  if count == 10:\n",
        "    break\n",
        "  try: \n",
        "   a=int(input(\"enter an integer:\"))\n",
        "   lst.append(a)\n",
        "   count=count+1\n",
        "  except:\n",
        "   print(\"You have not entered an integer. Please enter an integer\")\n",
        "\n",
        "print(\"The entered integers are :\",lst)\n",
        "\n"
      ],
      "metadata": {
        "colab": {
          "base_uri": "https://localhost:8080/"
        },
        "id": "E6FQjtBM2Krz",
        "outputId": "d4c557bc-cfc1-4114-dddb-4062cc647d1f"
      },
      "execution_count": 29,
      "outputs": [
        {
          "output_type": "stream",
          "name": "stdout",
          "text": [
            "enter an integer:1\n",
            "enter an integer:2\n",
            "enter an integer:3\n",
            "enter an integer:4\n",
            "enter an integer:5\n",
            "enter an integer:6\n",
            "enter an integer:7\n",
            "enter an integer:8\n",
            "enter an integer:9\n",
            "enter an integer:10\n",
            "The entered integers are : [1, 2, 3, 4, 5, 6, 7, 8, 9, 10]\n"
          ]
        }
      ]
    },
    {
      "cell_type": "markdown",
      "source": [
        "* Minimum element in a list."
      ],
      "metadata": {
        "id": "g2tr8RiD-vtw"
      }
    },
    {
      "cell_type": "code",
      "source": [
        "# 1.To find the Minimum element in the list\n",
        "\n",
        "min1=lst[0]\n",
        "for i in range(1,len(lst)):\n",
        "    if(lst[i]<min1):\n",
        "        min1=lst[i]\n",
        "print(\"The minimum element in the list is\",min1)"
      ],
      "metadata": {
        "colab": {
          "base_uri": "https://localhost:8080/"
        },
        "id": "WPc7iBMY-30G",
        "outputId": "a58804fe-66f2-4bb7-eae4-8753c3bec896"
      },
      "execution_count": 30,
      "outputs": [
        {
          "output_type": "stream",
          "name": "stdout",
          "text": [
            "The minimum element in the list is 1\n"
          ]
        }
      ]
    },
    {
      "cell_type": "markdown",
      "source": [
        "* Maximum element in a List"
      ],
      "metadata": {
        "id": "5A4H0guv_Aic"
      }
    },
    {
      "cell_type": "code",
      "source": [
        "# 2.To find the Maximum element in the list\n",
        "\n",
        "max1=lst[0]\n",
        "for i in range(1,len(lst)):\n",
        "    if(lst[i]>max1):\n",
        "        max1=lst[i]\n",
        "print(\"The maximum element in the list is\",max1)"
      ],
      "metadata": {
        "colab": {
          "base_uri": "https://localhost:8080/"
        },
        "id": "CaMTupL7_Gtz",
        "outputId": "1216dc2c-2656-42bc-e7ee-d4ca2ccd5948"
      },
      "execution_count": 31,
      "outputs": [
        {
          "output_type": "stream",
          "name": "stdout",
          "text": [
            "The maximum element in the list is 10\n"
          ]
        }
      ]
    },
    {
      "cell_type": "markdown",
      "source": [
        "* Range of a list"
      ],
      "metadata": {
        "id": "dW2SaH7a_Mmd"
      }
    },
    {
      "cell_type": "code",
      "source": [
        "# 3.To find the Range \n",
        "y=max1-min1\n",
        "print(\"The range of the list is\",y)"
      ],
      "metadata": {
        "colab": {
          "base_uri": "https://localhost:8080/"
        },
        "id": "NjCKFw7T_ej6",
        "outputId": "94c918a4-8990-400c-9a8c-cf6a125fa23f"
      },
      "execution_count": 32,
      "outputs": [
        {
          "output_type": "stream",
          "name": "stdout",
          "text": [
            "The range of the list is 9\n"
          ]
        }
      ]
    },
    {
      "cell_type": "markdown",
      "source": [
        "* Mean of a list"
      ],
      "metadata": {
        "id": "Xre6x6F0_hNd"
      }
    },
    {
      "cell_type": "code",
      "source": [
        "# 4.To find the Mean\n",
        "sum1=0\n",
        "\n",
        "for i in lst:\n",
        "    sum1+=i\n",
        "mean=sum1/len(lst)\n",
        "print(\"The mean of the list is\",mean)"
      ],
      "metadata": {
        "colab": {
          "base_uri": "https://localhost:8080/"
        },
        "id": "CiePCpH1_l3C",
        "outputId": "8a5866f5-931b-4c5c-f7c5-cdfd32ed407b"
      },
      "execution_count": 33,
      "outputs": [
        {
          "output_type": "stream",
          "name": "stdout",
          "text": [
            "The mean of the list is 5.5\n"
          ]
        }
      ]
    },
    {
      "cell_type": "markdown",
      "source": [
        "*  Variance of a List"
      ],
      "metadata": {
        "id": "MUAMkuVV_5Tf"
      }
    },
    {
      "cell_type": "code",
      "source": [
        "# 5. To find the variance\n",
        "diff=0\n",
        "total=0\n",
        "for i in lst:\n",
        "  diff= (i - mean)**2\n",
        "  total = total + diff\n",
        "\n",
        "var = total/count\n",
        "print(\"The variance of the list is\", var)"
      ],
      "metadata": {
        "colab": {
          "base_uri": "https://localhost:8080/"
        },
        "id": "k97Co3MaATF1",
        "outputId": "a3e0f493-705a-4eaf-ab3e-907b28caf2ae"
      },
      "execution_count": 34,
      "outputs": [
        {
          "output_type": "stream",
          "name": "stdout",
          "text": [
            "The variance of the list is 8.25\n"
          ]
        }
      ]
    },
    {
      "cell_type": "markdown",
      "source": [
        "* Standard Deviation of a List"
      ],
      "metadata": {
        "id": "oV9uSo_dAaQC"
      }
    },
    {
      "cell_type": "code",
      "source": [
        "# 6.To find the Standard Deviation\n",
        "sd=var**0.5\n",
        "print('The Standard Deviation is',sd)"
      ],
      "metadata": {
        "colab": {
          "base_uri": "https://localhost:8080/"
        },
        "id": "vwiV4B0GAo52",
        "outputId": "5e96f709-82f2-4587-b9f3-a636cebb23ba"
      },
      "execution_count": 28,
      "outputs": [
        {
          "output_type": "stream",
          "name": "stdout",
          "text": [
            "The Standard Deviation is 2.8722813232690143\n"
          ]
        }
      ]
    }
  ]
}