{
 "cells": [
  {
   "cell_type": "markdown",
   "id": "9e6a2de4",
   "metadata": {},
   "source": [
    "\n",
    "- Name: Manish Bhima\n",
    "\n",
    "- Date: 10/02/2022"
   ]
  },
  {
   "cell_type": "markdown",
   "id": "c0ddc0aa",
   "metadata": {},
   "source": [
    "# Part 1: What is Data Analysis?"
   ]
  },
  {
   "cell_type": "markdown",
   "id": "241e81f6",
   "metadata": {},
   "source": [
    "An examination, cleansing, transformation, and modeling of data with the objective of uncovering usable information, informing conclusions, and assisting decision-making."
   ]
  },
  {
   "cell_type": "markdown",
   "id": "4e71f864",
   "metadata": {},
   "source": [
    "**DATA ANALYSIS TOOLS:**\n",
    "\n",
    "- Auto-Managed Closed Tools: Qlik, Tableau, Looker, Zoho Analytics\n",
    "\n",
    "- Programming Languages/Open tools: Python, R, Julia"
   ]
  },
  {
   "cell_type": "markdown",
   "id": "eeab53f4",
   "metadata": {},
   "source": [
    "**Advantages/Disadvantages of Auto-Managed Closed Tools:**\n",
    "\n",
    "- Pros: Easy to handle things in more professional way\n",
    "\n",
    "- cons: Closed source, cost-effective, minimalized"
   ]
  },
  {
   "cell_type": "markdown",
   "id": "a8c3262e",
   "metadata": {},
   "source": [
    "**Advantages/Disadvantages of Programming Languages/Open tools:**\n",
    "\n",
    "- Pros: Open source, free, extremely powerful\n",
    "\n",
    "- cons: Steep learning curve"
   ]
  },
  {
   "cell_type": "markdown",
   "id": "38e4f703",
   "metadata": {},
   "source": [
    "**Why Python is used for Data Analysis?**\n",
    "\n",
    "- It is easy to Understand and having powerful libraries (not just for data analysis) \n",
    "- free and open source."
   ]
  },
  {
   "cell_type": "markdown",
   "id": "178115dc",
   "metadata": {},
   "source": [
    "**When to choose R?**\n",
    "\n",
    "\n",
    "- It creates a framework that can translate Python objects into R objects, pass them into R functions, and convert R output back into Python objects.\n",
    "- One advantage of using R within Python is that we would able to use R's awesome packages like ggplot2, tidyr, dplyr et al. easily in Python."
   ]
  },
  {
   "cell_type": "markdown",
   "id": "3f78f897",
   "metadata": {},
   "source": [
    "**The Data Analysis Process**\n",
    "\n",
    "- Data Extraction \n",
    "- Data Cleaning\n",
    "-Data Wrangling\n",
    "-Analysis\n",
    "-Action"
   ]
  },
  {
   "cell_type": "markdown",
   "id": "bb462e5f",
   "metadata": {},
   "source": [
    "**Python Libraries**\n",
    "- pandas: The cornerstone of our Data Analysis job with Python\n",
    "matplotlib: The foundational library for visualizations. Other libraries we’ll use will be built on top of matplotlib.\n",
    "\n",
    "- numpy: The numeric library that serves as the foundation of all calculations in Python.\n",
    "\n",
    "- seaborn: A statistical visualization tool built on top of matplotlib.\n",
    "\n",
    "- statsmodels: A library with many advanced statistical functions.\n",
    "- scipy: Advanced scientific computing, including functions for optimization, linear algebra, image processing and much more.\n",
    "\n",
    "- scikit-learn: The most popular machine learning library for Python (not deep learning)"
   ]
  },
  {
   "cell_type": "code",
   "execution_count": null,
   "id": "84aad536",
   "metadata": {},
   "outputs": [],
   "source": []
  }
 ],
 "metadata": {
  "kernelspec": {
   "display_name": "Python 3 (ipykernel)",
   "language": "python",
   "name": "python3"
  },
  "language_info": {
   "codemirror_mode": {
    "name": "ipython",
    "version": 3
   },
   "file_extension": ".py",
   "mimetype": "text/x-python",
   "name": "python",
   "nbconvert_exporter": "python",
   "pygments_lexer": "ipython3",
   "version": "3.9.12"
  }
 },
 "nbformat": 4,
 "nbformat_minor": 5
}
