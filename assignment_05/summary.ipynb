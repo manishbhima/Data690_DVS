{
  "nbformat": 4,
  "nbformat_minor": 0,
  "metadata": {
    "colab": {
      "provenance": [],
      "authorship_tag": "ABX9TyNAwx5Re6xvgaNLJVeCTj7v",
      "include_colab_link": true
    },
    "kernelspec": {
      "name": "python3",
      "display_name": "Python 3"
    },
    "language_info": {
      "name": "python"
    }
  },
  "cells": [
    {
      "cell_type": "markdown",
      "metadata": {
        "id": "view-in-github",
        "colab_type": "text"
      },
      "source": [
        "<a href=\"https://colab.research.google.com/github/manishbhima/Data690_DVS/blob/main/assignment_05/summary.ipynb\" target=\"_parent\"><img src=\"https://colab.research.google.com/assets/colab-badge.svg\" alt=\"Open In Colab\"/></a>"
      ]
    },
    {
      "cell_type": "markdown",
      "source": [
        "# Data690 - Data Visualization & Statistics\n",
        "## Assignment- 5\n",
        "\n",
        "* Name - Arthi Komma\n",
        "* Campus id - GF89659"
      ],
      "metadata": {
        "id": "X4AS7OX1eNcT"
      }
    },
    {
      "cell_type": "markdown",
      "source": [
        "# Data Analysis With Python\n",
        "\n",
        "1. what is data analysis\n",
        "2. real examples of data analysis with python\n",
        "3. how to use jupyter notebooks\n",
        "4. intro to numpy\n",
        "5. intro to pandas\n",
        "6. data cleaning\n",
        "7. reading data sql, csvs, api's\n",
        "8. python in under 10 minutes\n",
        "\n",
        "## What is data analysis \n",
        " a process of inspecting, cleansing, transforming and modeling data with a goal of discovering useful information, informing conclusiom and supporting decision-making.\n",
        " \n",
        "programming languages are rather preferred than auto-managed closed tools\n",
        "main draw back is that we have to know the learn tha basics first and the learning process takes a  lot of time by practising.\n",
        "\n",
        "## Why python for data analysis\n",
        "1. very simple an intutive to learn\n",
        "2. correct language\n",
        "3. powerful libraries\n",
        "4. free and open source.\n",
        "5. amazing community, docs and conferences\n",
        "\n",
        "## When to choose R?\n",
        "1. when r studio is needed\n",
        "2. when dealing with advanced statistical methods\n",
        "3. when extreme performance is needed\n",
        "\n",
        "\n",
        "## The data analysis process\n",
        "1. data extraction - where the data is coming from\n",
        "2. data cleaning \n",
        "3. data wrangling\n",
        "4. analysis - extracting patterns from data\n",
        "5. buildind models\n",
        "\n",
        "* data scientist - codes more\n",
        "* data analysist - analyses the data and communicates through it\n",
        "\n",
        "\n",
        "## Python Libraries\n",
        "- pandas: The cornerstone of our Data Analysis job with Python\n",
        "matplotlib: The foundational library for visualizations. Other libraries we’ll use will be built on top of matplotlib.\n",
        "\n",
        "- numpy: The numeric library that serves as the foundation of all calculations in Python.\n",
        "\n",
        "- seaborn: A statistical visualization tool built on top of matplotlib.\n",
        "\n",
        "- statsmodels: A library with many advanced statistical functions.\n",
        "- scipy: Advanced scientific computing, including functions for optimization, linear algebra, image processing and much more.\n",
        "\n",
        "- scikit-learn: The most popular machine learning library for Python (not deep learning)\n"
      ],
      "metadata": {
        "id": "RIN-Z1g7M-Hq"
      }
    },
    {
      "cell_type": "markdown",
      "source": [
        "## Jupyter Notebook Shortcut Commands\n",
        "\n",
        "- shift + enter - run cell, select below\n",
        "- ctrl + enter - run cell\n",
        "- option + enter - run cell, insert below\n",
        "- ctrl+A - insert cell above\n",
        "- ctrl+B - insert cell below\n",
        "- ctrl+C - copy cell\n",
        "- ctrl+V - paste cell\n",
        "- ctrl+D - D delete selected cell\n",
        "- ctrl+ shift + M - merge selected cells, or current cell with cell below if only one cell selected\n",
        "- ctrl+I - I interrupt kernel\n",
        "- ctrl+0 - 0 restart kernel (with dialog)\n",
        "- ctrl+ Y - change cell to code mode\n",
        "- ctrl+M - change cell to markdown mode (good for documentation)"
      ],
      "metadata": {
        "id": "vtFUGsDnVY5K"
      }
    },
    {
      "cell_type": "markdown",
      "source": [
        "## Numpy\n",
        " Core package for numerical computation in python.\n",
        " Matplotlib, Pandas and other libraries rely on numpy.\n",
        " - Using numpy we can create arrays and the array elements can be fetched using their indices.\n",
        " - By using index of these arrays we can perform various operations.\n",
        " - dtype() - this function return the datatype of the array.\n",
        " - shape() - it gives the number of rows and columns present in a array of matrix.\n",
        " - ndim() - gives number of dimensions.\n",
        " - size() - gives the number of elements present.\n",
        " - mean - returns the mean of the values.\n",
        " - sum  - returns the sum of the values\n",
        " - std - returns the standard deviation.\n",
        " - var - returns the variance.\n",
        " - A.sum(axis = 0) - axis = 0 represents the column and the function return the sum of elements in the column.\n",
        " - A.sum(axis = 1) - axis=1 represents the rows\n",
        " - Arrays can be vectorized and can be able to perform varios mathematical operations.\n",
        " - .dot - return the dot product.\n",
        " - @ - return the cross product.\n",
        " - T - Gives the trabspose of a matrix.\n",
        " - reshape - changes the rows to columns and columns to rows.\n",
        " "
      ],
      "metadata": {
        "id": "a_PfMGvpVun2"
      }
    },
    {
      "cell_type": "markdown",
      "source": [
        "## Pandas\n",
        "It is the main library used for visuaization.\n",
        "- dtype() - return the datatype of the dataframe.\n",
        "- values - lists out the values in the data frame.\n",
        "- iloc[0] - the value at the particular index will be displayed.\n",
        "- index - makes a particular column the main index of the data frame.\n",
        "- column - displays all the columns of the data frame.\n",
        "- into - gives the  info of the dataframe.\n",
        "- describe - describes the entire data frame in the form of a table.\n",
        "- loc - selects the matching row of the given index.\n",
        "- iloc - works with numeric position of the index.\n",
        "- rename - can be used to rename the name of the columns or the values.\n",
        "- head() - gives the first five rows of data from the data frame.\n",
        "- tail() - gives the last five rows of data from the data frame.\n",
        "- sample() - gives the random rows of data from the data frame."
      ],
      "metadata": {
        "id": "1AGRZF7XBVeh"
      }
    },
    {
      "cell_type": "markdown",
      "source": [
        "## Data Cleaning\n",
        "\n",
        "It is the process of identifying the null values and filling up those null values as per the need.\n",
        "\n",
        "- fillna - fills the null values with some arbitary values.\n",
        "- ffill - forwardly fills the null values. \n",
        "- bfill - backwardly fills the null values.\n",
        "- Any and all methods check if there's any True value in a series or all the values are True.\n",
        "- value_counts - gives how many times the value is repeated in the dataframe."
      ],
      "metadata": {
        "id": "XYFfCT1DDFH3"
      }
    },
    {
      "cell_type": "markdown",
      "source": [
        "## Reading Data\n",
        "\n",
        "Instead of creating dataframes and series with the pandas, we can read data from CSV files and other formats of data.\n",
        " - with open('filename',r) - A file can be invoked by using open() and it is a single requried argument that has a single return, with statement automatically takes care of closing the file once it leaves the with block, even in cases of error.\n",
        "\n",
        "There are many other available reading functions as the following table shows:\n",
        "\n",
        "![pandas read data table](https://user-images.githubusercontent.com/7065401/68400151-51d5c200-0156-11ea-9732-aa00400c8e4b.png)\n",
        "\n",
        "- .to_csv('out.csv') - to save the data to csv file.\n",
        "\n",
        "## To read the data from relational databases\n",
        "\n",
        "- !sqlalchemy - the module to be downloaded to read sql databases.\n",
        "- sqlite3 - library to be downloaded to fetch sql data.\n",
        "- conn = sqlite3.connect('123.db')\n",
        "\n",
        "\n",
        "## To read the data from html\n",
        "\n",
        "- lxml module to be installed\n",
        "- read_html('URL') -  to read the data from the html."
      ],
      "metadata": {
        "id": "WMTm5H_YD9HE"
      }
    },
    {
      "cell_type": "code",
      "source": [],
      "metadata": {
        "id": "B5v22EQSUOxT"
      },
      "execution_count": null,
      "outputs": []
    }
  ]
}