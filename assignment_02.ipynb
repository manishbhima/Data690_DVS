{
  "nbformat": 4,
  "nbformat_minor": 0,
  "metadata": {
    "colab": {
      "provenance": [],
      "authorship_tag": "ABX9TyPQ6Wnr2Ahv2svGxt/r2pJU",
      "include_colab_link": true
    },
    "kernelspec": {
      "name": "python3",
      "display_name": "Python 3"
    },
    "language_info": {
      "name": "python"
    }
  },
  "cells": [
    {
      "cell_type": "markdown",
      "metadata": {
        "id": "view-in-github",
        "colab_type": "text"
      },
      "source": [
        "<a href=\"https://colab.research.google.com/github/manishbhima/Data690_DVS/blob/main/assignment_02.ipynb\" target=\"_parent\"><img src=\"https://colab.research.google.com/assets/colab-badge.svg\" alt=\"Open In Colab\"/></a>"
      ]
    },
    {
      "cell_type": "markdown",
      "source": [
        "# Data Statistics And Visualisation \n",
        "# Assignment_02\n",
        "* Code to find Minimum,\n",
        "Maximum,\n",
        "Range,\n",
        "Mean,\n",
        "Variance,\n",
        "Standard Deviation from a given set of Integers."
      ],
      "metadata": {
        "id": "JkMMcu1s0tqO"
      }
    },
    {
      "cell_type": "code",
      "source": [
        "count=0\n",
        "lst=[]\n",
        "while True:\n",
        "  if count == 10:\n",
        "    break\n",
        "  try: \n",
        "   a=int(input(\"enter an integer:\"))\n",
        "   lst.append(a)\n",
        "   count=count+1\n",
        "  except:\n",
        "   print(\"You have not entered an integer. Please enter an integer\")\n",
        "\n",
        "print(\"The entered integers are :\",lst)\n",
        "\n",
        "# 1.To find the Minimum element in the list\n",
        "\n",
        "min1=lst[0]\n",
        "for i in range(1,len(lst)):\n",
        "    if(lst[i]<min1):\n",
        "        min1=lst[i]\n",
        "print(\"The minimum element in the list is\",min1)\n",
        "\n",
        "# 2.To find the Maximum element in the list\n",
        "\n",
        "max1=lst[0]\n",
        "for i in range(1,len(lst)):\n",
        "    if(lst[i]>max1):\n",
        "        max1=lst[i]\n",
        "print(\"The maximum element in the list is\",max1)\n",
        "\n",
        "# 3.To find the Range \n",
        "y=max1-min1\n",
        "print(\"The range of the list is\",y)\n",
        "\n",
        "# 4.To find the Mean\n",
        "sum1=0\n",
        "\n",
        "for i in lst:\n",
        "    sum1+=i\n",
        "mean=sum1/len(lst)\n",
        "print(\"The mean of the list is\",mean)\n",
        "\n",
        "# 5. To find the variance\n",
        "diff=0\n",
        "total=0\n",
        "for i in lst:\n",
        "  diff= (i - mean)**2\n",
        "  total = total + diff\n",
        "\n",
        "var = total/count\n",
        "print(\"The variance of the list is\", var)\n",
        "\n",
        "# 6.To find the Standard Deviation\n",
        "sd=var**0.5\n",
        "print('The Standard Deviation is',sd)\n"
      ],
      "metadata": {
        "colab": {
          "base_uri": "https://localhost:8080/"
        },
        "id": "E6FQjtBM2Krz",
        "outputId": "3af126cc-6ed2-4e86-ec23-53f62d837604"
      },
      "execution_count": 22,
      "outputs": [
        {
          "output_type": "stream",
          "name": "stdout",
          "text": [
            "enter an integer:1\n",
            "enter an integer:2\n",
            "enter an integer:3\n",
            "enter an integer:4\n",
            "enter an integer:5\n",
            "enter an integer:6\n",
            "enter an integer:7\n",
            "enter an integer:8\n",
            "enter an integer:9\n",
            "enter an integer:10\n",
            "The entered integers are : [1, 2, 3, 4, 5, 6, 7, 8, 9, 10]\n",
            "The minimum element in the list is 1\n",
            "The maximum element in the list is 10\n",
            "The range of the list is  9\n",
            "The mean of the list is 5.5\n",
            "The variance of the list is 8.25\n",
            "The Standard Deviation is 2.8722813232690143\n"
          ]
        }
      ]
    }
  ]
}