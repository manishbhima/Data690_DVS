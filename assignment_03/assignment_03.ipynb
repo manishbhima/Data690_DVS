{
  "nbformat": 4,
  "nbformat_minor": 0,
  "metadata": {
    "colab": {
      "provenance": [],
      "authorship_tag": "ABX9TyMH0SpFJoH2dnWeRTiVwUFk",
      "include_colab_link": true
    },
    "kernelspec": {
      "name": "python3",
      "display_name": "Python 3"
    },
    "language_info": {
      "name": "python"
    }
  },
  "cells": [
    {
      "cell_type": "markdown",
      "metadata": {
        "id": "view-in-github",
        "colab_type": "text"
      },
      "source": [
        "<a href=\"https://colab.research.google.com/github/manishbhima/Data690_DVS/blob/main/assignment_03/assignment_03.ipynb\" target=\"_parent\"><img src=\"https://colab.research.google.com/assets/colab-badge.svg\" alt=\"Open In Colab\"/></a>"
      ]
    },
    {
      "cell_type": "markdown",
      "source": [
        "a. Printing a 10 by 10 matrix "
      ],
      "metadata": {
        "id": "rQ3z7pF3790J"
      }
    },
    {
      "cell_type": "code",
      "source": [
        "import random\n",
        "for i in range(10):\n",
        "  for j in range(10):\n",
        "    x=random.randint(0,9)\n",
        "    print(x,end=\" \")\n",
        "\n",
        "  print(\"\")"
      ],
      "metadata": {
        "colab": {
          "base_uri": "https://localhost:8080/"
        },
        "id": "MzGt_pIK6ii1",
        "outputId": "87b6a03c-d6e8-44b5-ba0b-9af77ce4a5d7"
      },
      "execution_count": 12,
      "outputs": [
        {
          "output_type": "stream",
          "name": "stdout",
          "text": [
            "9 3 3 5 3 3 0 3 1 3 \n",
            "7 4 6 2 9 7 0 8 9 1 \n",
            "1 7 2 9 7 1 7 0 1 5 \n",
            "8 6 8 2 2 5 2 5 7 0 \n",
            "8 5 4 7 9 6 4 9 8 5 \n",
            "3 5 2 8 6 3 1 3 8 2 \n",
            "6 1 5 7 7 9 9 9 4 2 \n",
            "8 9 8 7 6 6 0 7 1 8 \n",
            "9 3 6 5 6 3 9 9 8 4 \n",
            "2 6 1 5 6 1 4 4 0 5 \n"
          ]
        }
      ]
    },
    {
      "cell_type": "markdown",
      "source": [
        "b. Printing \"@\" in place of odd numbers "
      ],
      "metadata": {
        "id": "6DkKABnD8TUG"
      }
    },
    {
      "cell_type": "code",
      "source": [
        "for i in range(10):\n",
        "\n",
        "  for j in range(10):\n",
        "    \n",
        "    x=random.randint(0,9)\n",
        "    if x%2 == 1:\n",
        "      print(\"@\", end=\" \")\n",
        "    else:\n",
        "      print (x,end=\" \")\n",
        "\n",
        "  print(\"\")\n",
        "\n",
        "\n",
        "    "
      ],
      "metadata": {
        "colab": {
          "base_uri": "https://localhost:8080/"
        },
        "id": "xkqaCYLo8cjD",
        "outputId": "285e7bf7-74e7-4490-e86e-0c46a24136bc"
      },
      "execution_count": 15,
      "outputs": [
        {
          "output_type": "stream",
          "name": "stdout",
          "text": [
            "0 @ 8 @ @ @ @ @ @ @ \n",
            "8 @ @ 6 @ @ 2 2 4 @ \n",
            "8 @ 6 @ 2 2 @ 0 0 2 \n",
            "8 @ 0 @ 2 2 @ 0 @ 8 \n",
            "6 0 8 @ @ @ @ 0 @ 2 \n",
            "2 @ @ 8 2 @ @ 2 2 6 \n",
            "@ @ @ 8 @ 2 @ @ @ 6 \n",
            "4 2 @ @ @ @ 2 @ 2 @ \n",
            "@ 4 @ 2 8 @ @ 4 @ 0 \n",
            "@ @ 8 0 @ @ @ @ 6 @ \n"
          ]
        }
      ]
    },
    {
      "cell_type": "markdown",
      "source": [],
      "metadata": {
        "id": "nEBTEQ0ORlaX"
      }
    },
    {
      "cell_type": "markdown",
      "source": [
        "c. row sum"
      ],
      "metadata": {
        "id": "PSCcmejk9TDJ"
      }
    },
    {
      "cell_type": "code",
      "source": [
        "for i in range(10):\n",
        "  sum=0\n",
        "  for j in range(10):\n",
        "    j=random.randint(0,9)\n",
        "    \n",
        "    print(j,end=\" \")\n",
        "    sum=sum+j\n",
        "\n",
        "  print(\"*\",sum)\n",
        "    "
      ],
      "metadata": {
        "colab": {
          "base_uri": "https://localhost:8080/"
        },
        "id": "77gXzJjr8wh4",
        "outputId": "efa4f96e-2e29-4a22-c8de-726073858e40"
      },
      "execution_count": 9,
      "outputs": [
        {
          "output_type": "stream",
          "name": "stdout",
          "text": [
            "9 4 1 2 9 2 3 2 1 2 * 35\n",
            "1 8 4 7 7 7 6 1 5 3 * 49\n",
            "8 0 1 0 5 1 2 8 8 1 * 34\n",
            "6 4 0 1 0 0 4 4 8 1 * 28\n",
            "9 9 3 5 5 7 7 4 0 8 * 57\n",
            "3 5 5 0 8 2 7 0 5 7 * 42\n",
            "6 9 5 3 0 4 0 4 0 6 * 37\n",
            "3 6 2 6 1 9 5 3 3 5 * 43\n",
            "6 2 5 8 2 0 4 5 2 8 * 42\n",
            "8 0 4 8 2 2 2 3 9 0 * 38\n"
          ]
        }
      ]
    },
    {
      "cell_type": "markdown",
      "source": [
        "d. surround the matrix with Asterisks(*)\n",
        "\n",
        "\n",
        "\n"
      ],
      "metadata": {
        "id": "Z2-fzWUeN_f5"
      }
    },
    {
      "cell_type": "code",
      "source": [
        "import random\n",
        "print(\"***********************\",end=\" \")\n",
        "print()\n",
        "for i in range(10):\n",
        "  print(\"*\",end=\" \")\n",
        "  for j in range(10):\n",
        "    print(random.randint(0,9),end=\" \")\n",
        "  print('*',end=\" \")\n",
        "  print()\n",
        "print(\"***********************\",end=\" \")"
      ],
      "metadata": {
        "colab": {
          "base_uri": "https://localhost:8080/"
        },
        "id": "Rmgma6U3OSKX",
        "outputId": "417e1c35-4ec6-45ab-8bc2-e6b7abe02fc5"
      },
      "execution_count": 8,
      "outputs": [
        {
          "output_type": "stream",
          "name": "stdout",
          "text": [
            "*********************** \n",
            "* 5 3 5 6 8 5 1 6 5 4 * \n",
            "* 9 2 3 0 5 4 9 4 0 8 * \n",
            "* 6 9 8 1 7 9 0 2 9 3 * \n",
            "* 2 2 9 9 2 4 4 7 4 4 * \n",
            "* 3 2 9 3 7 5 1 1 3 4 * \n",
            "* 1 3 4 5 7 1 1 5 4 3 * \n",
            "* 8 5 4 8 3 7 1 9 4 0 * \n",
            "* 7 2 9 4 8 9 7 7 7 2 * \n",
            "* 6 4 5 5 6 8 0 7 1 7 * \n",
            "* 8 2 2 5 0 6 0 1 4 9 * \n",
            "*********************** "
          ]
        }
      ]
    },
    {
      "cell_type": "markdown",
      "source": [
        "5. Row sum and Column sum"
      ],
      "metadata": {
        "id": "d2mTmRpIRnxe"
      }
    },
    {
      "cell_type": "code",
      "source": [
        "lst=[]                     \n",
        "for i in range(10):\n",
        "  a=[]                         \n",
        "  for j in range(10):\n",
        "    j=random.randint(0,9)\n",
        "    a.append(j)\n",
        "  lst.append(a)\n",
        "\n",
        " \n",
        "sum_row=0                     \n",
        "sum_col=0                     \n",
        "r=[]                        \n",
        "c=[]                          \n",
        "for i in range(10):\n",
        "  for j in range(10):\n",
        "    sum_row= sum_row+lst[i][j]  \n",
        "    sum_col= sum_col+lst[j][i]\n",
        "  r.append(sum_row)\n",
        "  c.append(sum_col)\n",
        "  sum_row=0     \n",
        "  sum_col=0\n",
        "\n",
        "# print the sum of rows and columns\n",
        "\n",
        "for i in range(10):\n",
        "  for j in range(10):\n",
        "    print(lst[i][j],end=\"  \")\n",
        "  print(\"*\",r[i])\n",
        "  print()\n",
        "\n",
        "print(\"*  \" * 10,end=\"     \")\n",
        "print()\n",
        "\n",
        "for i in range(10):\n",
        "    print(c[i],end=\" \")"
      ],
      "metadata": {
        "colab": {
          "base_uri": "https://localhost:8080/"
        },
        "id": "ZAdPqAdARrfl",
        "outputId": "9f98fb7e-39fb-4226-f400-7d2043398d7b"
      },
      "execution_count": 12,
      "outputs": [
        {
          "output_type": "stream",
          "name": "stdout",
          "text": [
            "7  5  5  5  4  6  6  3  2  4  * 47\n",
            "\n",
            "6  5  4  7  8  6  2  2  1  9  * 50\n",
            "\n",
            "5  6  8  1  0  3  7  7  6  8  * 51\n",
            "\n",
            "8  9  5  6  1  4  5  4  5  2  * 49\n",
            "\n",
            "5  9  8  4  0  9  0  3  4  6  * 48\n",
            "\n",
            "0  8  3  9  5  3  1  6  7  4  * 46\n",
            "\n",
            "7  9  9  1  7  7  0  3  3  2  * 48\n",
            "\n",
            "1  8  3  4  9  8  8  3  0  0  * 44\n",
            "\n",
            "9  8  7  2  2  3  2  1  2  4  * 40\n",
            "\n",
            "8  5  3  3  7  6  7  9  0  1  * 49\n",
            "\n",
            "*  *  *  *  *  *  *  *  *  *       \n",
            "56 72 55 42 43 55 38 41 30 40 "
          ]
        }
      ]
    }
  ]
}